{
 "cells": [
  {
   "cell_type": "code",
   "execution_count": 234,
   "metadata": {},
   "outputs": [],
   "source": [
    "import pandas as pd\n",
    "import numpy as np\n",
    "%matplotlib inline\n",
    "import matplotlib.pyplot as plt\n",
    "from os import listdir\n",
    "from keras.preprocessing import sequence\n",
    "import tensorflow as tf\n",
    "from keras.models import Sequential\n",
    "from keras.layers import Dense\n",
    "import keras\n",
    "from keras.layers import LSTM\n",
    "\n",
    "from keras.optimizers import Adam\n",
    "from keras.models import load_model\n",
    "from keras.callbacks import ModelCheckpoint"
   ]
  },
  {
   "cell_type": "code",
   "execution_count": 235,
   "metadata": {},
   "outputs": [
    {
     "data": {
      "text/plain": [
       "48164"
      ]
     },
     "execution_count": 235,
     "metadata": {},
     "output_type": "execute_result"
    }
   ],
   "source": [
    "df_walk = pd.read_csv('Walking_Data.csv')\n",
    "df_fall = pd.read_csv('Falling_Data.csv')\n",
    "df_walk.columns=['timestamp','x','y','z','subject','trial','tag']\n",
    "df_fall.columns=['timestamp','x','y','z','subject','trial','tag']\n",
    "\n",
    "len(df_walk)"
   ]
  },
  {
   "cell_type": "code",
   "execution_count": 236,
   "metadata": {},
   "outputs": [
    {
     "data": {
      "text/plain": [
       "48164"
      ]
     },
     "execution_count": 236,
     "metadata": {},
     "output_type": "execute_result"
    }
   ],
   "source": [
    "df_walk=df_walk.dropna()\n",
    "df_fall=df_fall.dropna()\n",
    "df_walk[~df_walk.isin([np.nan, np.inf, -np.inf]).any(1)]\n",
    "df_fall[~df_fall.isin([np.nan, np.inf, -np.inf]).any(1)]\n",
    "\n",
    "len(df_walk)"
   ]
  },
  {
   "cell_type": "code",
   "execution_count": null,
   "metadata": {},
   "outputs": [],
   "source": []
  },
  {
   "cell_type": "code",
   "execution_count": 237,
   "metadata": {},
   "outputs": [],
   "source": [
    "sequences_fall=[]\n",
    "#both data got 2 person with no data so manually removed in excel\n",
    "for subject in range(1,16):\n",
    "    for trial in range(1,4):\n",
    "        temp=df_fall.loc[(df_fall['subject'] == subject) & (df_fall['trial']==trial)]\n",
    "        temp=temp.drop(['timestamp','subject','trial','tag'],axis=1)\n",
    "        if temp.empty==False:\n",
    "            sequences_fall.append(temp.values.tolist())\n",
    "\n",
    "\n",
    "        \n",
    "sequences_walk=[]\n",
    "for subject in range(1,16):\n",
    "    for trial in range(1,4):\n",
    "        temp=df_walk.loc[(df_walk['subject'] == subject) & (df_walk['trial']==trial)]\n",
    "        temp=temp.drop(['timestamp','subject','trial','tag'],axis=1)\n",
    "        if temp.empty==False:\n",
    "            sequences_walk.append(temp.values.tolist())"
   ]
  },
  {
   "cell_type": "code",
   "execution_count": 238,
   "metadata": {},
   "outputs": [
    {
     "data": {
      "text/plain": [
       "39"
      ]
     },
     "execution_count": 238,
     "metadata": {},
     "output_type": "execute_result"
    }
   ],
   "source": [
    "len(sequences_fall)"
   ]
  },
  {
   "cell_type": "code",
   "execution_count": 239,
   "metadata": {},
   "outputs": [
    {
     "data": {
      "text/plain": [
       "count     39.000000\n",
       "mean     180.948718\n",
       "std       11.283310\n",
       "min      149.000000\n",
       "25%      177.000000\n",
       "50%      184.000000\n",
       "75%      187.500000\n",
       "max      195.000000\n",
       "dtype: float64"
      ]
     },
     "execution_count": 239,
     "metadata": {},
     "output_type": "execute_result"
    }
   ],
   "source": [
    "len_sequences_fall = []\n",
    "for one_seq in sequences_fall:\n",
    "    len_sequences_fall.append(len(one_seq))\n",
    "pd.Series(len_sequences_fall).describe()"
   ]
  },
  {
   "cell_type": "code",
   "execution_count": 240,
   "metadata": {},
   "outputs": [],
   "source": [
    "#Padding the sequence with the values in last row to max length\n",
    "to_pad_fall = 195\n",
    "new_seq = []\n",
    "for one_seq in sequences_fall:\n",
    "    len_one_seq = len(one_seq)\n",
    "    last_val = one_seq[-1]\n",
    "    n = to_pad_fall - len_one_seq\n",
    "   \n",
    "    to_concat = np.repeat(one_seq[-1], n).reshape(3, n).transpose()\n",
    "    new_one_seq = np.concatenate([one_seq, to_concat])\n",
    "    new_seq.append(new_one_seq)\n",
    "final_seq_fall = np.stack(new_seq)\n",
    "\n",
    "#truncate the sequence to length 60\n",
    "from keras.preprocessing import sequence\n",
    "seq_len = 187\n",
    "final_seq_fall=sequence.pad_sequences(final_seq_fall, maxlen=seq_len, padding='post', dtype='float', truncating='post')"
   ]
  },
  {
   "cell_type": "code",
   "execution_count": 241,
   "metadata": {},
   "outputs": [
    {
     "data": {
      "text/plain": [
       "count      39.000000\n",
       "mean     1077.743590\n",
       "std        67.402842\n",
       "min       898.000000\n",
       "25%      1054.000000\n",
       "50%      1094.000000\n",
       "75%      1125.500000\n",
       "max      1145.000000\n",
       "dtype: float64"
      ]
     },
     "execution_count": 241,
     "metadata": {},
     "output_type": "execute_result"
    }
   ],
   "source": [
    "len_sequences_walk = []\n",
    "for one_seq in sequences_walk:\n",
    "    len_sequences_walk.append(len(one_seq))\n",
    "pd.Series(len_sequences_walk).describe()"
   ]
  },
  {
   "cell_type": "code",
   "execution_count": 242,
   "metadata": {},
   "outputs": [],
   "source": [
    "#Padding the sequence with the values in last row to max length\n",
    "to_pad_walk = 1145\n",
    "new_seq = []\n",
    "for one_seq in sequences_walk:\n",
    "    len_one_seq = len(one_seq)\n",
    "    last_val = one_seq[-1]\n",
    "    n = to_pad_walk - len_one_seq\n",
    "    to_concat = np.repeat(one_seq[-1], n).reshape(3, n).transpose()\n",
    "    new_one_seq = np.concatenate([one_seq, to_concat])\n",
    "    new_seq.append(new_one_seq)\n",
    "    \n",
    "final_seq_walk = np.stack(new_seq)\n",
    "from keras.preprocessing import sequence\n",
    "seq_len = 187\n",
    "final_seq_walk=sequence.pad_sequences(final_seq_walk, maxlen=seq_len, padding='post', dtype='float', truncating='post')"
   ]
  },
  {
   "cell_type": "code",
   "execution_count": 243,
   "metadata": {},
   "outputs": [
    {
     "data": {
      "text/plain": [
       "[<matplotlib.lines.Line2D at 0x287830c5c88>,\n",
       " <matplotlib.lines.Line2D at 0x287a3902b08>,\n",
       " <matplotlib.lines.Line2D at 0x287a3902cc8>]"
      ]
     },
     "execution_count": 243,
     "metadata": {},
     "output_type": "execute_result"
    },
    {
     "data": {
      "image/png": "[encoded data removed]",
      "text/plain": [
       "<Figure size 432x288 with 1 Axes>"
      ]
     },
     "metadata": {
      "needs_background": "light"
     },
     "output_type": "display_data"
    }
   ],
   "source": [
    "x=11\n",
    "plt.plot(final_seq_walk[x])\n"
   ]
  },
  {
   "cell_type": "code",
   "execution_count": 244,
   "metadata": {},
   "outputs": [],
   "source": [
    "label_walk=np.array(range(len(final_seq_walk)))*0  \n",
    "label_fall=np.array(range(len(final_seq_fall)))*0+1\n"
   ]
  },
  {
   "cell_type": "code",
   "execution_count": 245,
   "metadata": {},
   "outputs": [
    {
     "data": {
      "text/plain": [
       "78"
      ]
     },
     "execution_count": 245,
     "metadata": {},
     "output_type": "execute_result"
    }
   ],
   "source": [
    "final_seq=np.concatenate((final_seq_fall,final_seq_walk),axis=0)\n",
    "final_label=np.concatenate((label_fall,label_walk),axis=0)\n",
    "len(final_label)\n"
   ]
  },
  {
   "cell_type": "code",
   "execution_count": 246,
   "metadata": {},
   "outputs": [],
   "source": [
    "x_min = final_seq.min(axis=(1, 2), keepdims=True)\n",
    "x_max = final_seq.max(axis=(1, 2), keepdims=True)\n",
    "\n",
    "final_x = (final_seq - x_min)/(x_max-x_min)\n"
   ]
  },
  {
   "cell_type": "code",
   "execution_count": 248,
   "metadata": {},
   "outputs": [],
   "source": [
    "from sklearn.model_selection import train_test_split\n",
    "X_train, X_test, y_train, y_test = train_test_split(final_x, final_label, test_size=0.3, random_state=42)"
   ]
  },
  {
   "cell_type": "code",
   "execution_count": 249,
   "metadata": {},
   "outputs": [],
   "source": [
    "model = Sequential()\n",
    "model.add(LSTM(4,return_sequences=True, input_shape=(seq_len, 3)))\n",
    "model.add(LSTM(4))\n",
    "\n",
    "model.add(Dense(1, activation='sigmoid'))"
   ]
  },
  {
   "cell_type": "code",
   "execution_count": null,
   "metadata": {},
   "outputs": [
    {
     "name": "stdout",
     "output_type": "stream",
     "text": [
      "Train on 54 samples, validate on 24 samples\n",
      "Epoch 1/50\n"
     ]
    }
   ],
   "source": [
    "adam = Adam(lr=0.001)\n",
    "chk = ModelCheckpoint('best_model.pkl', monitor='val_acc', save_best_only=True, mode='max', verbose=1)\n",
    "model.compile(loss='binary_crossentropy', optimizer=adam, metrics=['accuracy'])\n",
    "history=model.fit(X_train, y_train, epochs=50, batch_size=32, callbacks=[chk], validation_data=(X_test,y_test))\n"
   ]
  },
  {
   "cell_type": "code",
   "execution_count": null,
   "metadata": {},
   "outputs": [],
   "source": []
  },
  {
   "cell_type": "code",
   "execution_count": null,
   "metadata": {},
   "outputs": [],
   "source": [
    "print(history.history.keys())\n",
    "#  \"Accuracy\"\n",
    "plt.plot(history.history['acc'])\n",
    "plt.plot(history.history['val_acc'])\n",
    "plt.title('model accuracy')\n",
    "plt.ylabel('accuracy')\n",
    "plt.xlabel('epoch')\n",
    "plt.legend(['train', 'validation'], loc='upper left')\n",
    "plt.show()\n",
    "# \"Loss\"\n",
    "plt.plot(history.history['loss'])\n",
    "plt.plot(history.history['val_loss'])\n",
    "plt.title('model loss')\n",
    "plt.ylabel('loss')\n",
    "plt.xlabel('epoch')\n",
    "plt.legend(['train', 'validation'], loc='upper left')\n",
    "plt.show()"
   ]
  },
  {
   "cell_type": "code",
   "execution_count": null,
   "metadata": {},
   "outputs": [],
   "source": [
    "model.save(\"modelx_val.h5\")"
   ]
  },
  {
   "cell_type": "code",
   "execution_count": 141,
   "metadata": {},
   "outputs": [],
   "source": [
    "\n"
   ]
  },
  {
   "cell_type": "code",
   "execution_count": 142,
   "metadata": {},
   "outputs": [
    {
     "data": {
      "text/plain": [
       "<matplotlib.axes._subplots.AxesSubplot at 0x287fb918148>"
      ]
     },
     "execution_count": 142,
     "metadata": {},
     "output_type": "execute_result"
    },
    {
     "data": {
      "image/png": "[encoded data removed]",
      "text/plain": [
       "<Figure size 432x288 with 1 Axes>"
      ]
     },
     "metadata": {
      "needs_background": "light"
     },
     "output_type": "display_data"
    }
   ],
   "source": []
  },
  {
   "cell_type": "code",
   "execution_count": 154,
   "metadata": {},
   "outputs": [],
   "source": []
  },
  {
   "cell_type": "code",
   "execution_count": null,
   "metadata": {},
   "outputs": [],
   "source": []
  }
 ],
 "metadata": {
  "kernelspec": {
   "display_name": "tf",
   "language": "python",
   "name": "tf"
  },
  "language_info": {
   "codemirror_mode": {
    "name": "ipython",
    "version": 3
   },
   "file_extension": ".py",
   "mimetype": "text/x-python",
   "name": "python",
   "nbconvert_exporter": "python",
   "pygments_lexer": "ipython3",
   "version": "3.7.4"
  }
 },
 "nbformat": 4,
 "nbformat_minor": 2
}
